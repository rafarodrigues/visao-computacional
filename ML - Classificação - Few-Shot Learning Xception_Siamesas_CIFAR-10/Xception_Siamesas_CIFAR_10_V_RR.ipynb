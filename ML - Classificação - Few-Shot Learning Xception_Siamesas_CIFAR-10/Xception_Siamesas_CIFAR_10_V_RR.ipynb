{
  "nbformat": 4,
  "nbformat_minor": 0,
  "metadata": {
    "colab": {
      "provenance": [],
      "gpuType": "T4"
    },
    "kernelspec": {
      "name": "python3",
      "display_name": "Python 3"
    },
    "language_info": {
      "name": "python"
    },
    "accelerator": "GPU"
  },
  "cells": [
    {
      "cell_type": "code",
      "source": [
        "import itertools\n",
        "\n",
        "import tensorflow as tf\n",
        "from tensorflow.keras.layers import Input, Conv2D, MaxPooling2D, Flatten, Dense, Lambda\n",
        "from tensorflow.keras.models import Model\n",
        "from tensorflow.keras.optimizers import Adam\n",
        "from tensorflow.keras.losses import binary_crossentropy\n",
        "from tensorflow.keras.datasets import cifar10\n",
        "import numpy as np\n",
        "import matplotlib.pyplot as plt\n",
        "import random\n",
        "from tensorflow.keras.applications import Xception\n",
        "from sklearn.metrics import confusion_matrix, ConfusionMatrixDisplay, classification_report\n",
        "from tensorflow.keras.preprocessing.image import img_to_array, array_to_img"
      ],
      "metadata": {
        "id": "O0ys4arT10D5"
      },
      "execution_count": 1,
      "outputs": []
    },
    {
      "cell_type": "code",
      "source": [
        "def make_paired_dataset(X, y):\n",
        "    \"\"\"\n",
        "    Gera um dataset de pares a partir de um conjunto de imagens, com rótulos indicativos de se as imagens no par são da mesma classe.\n",
        "\n",
        "    Isso é útil para tarefas de aprendizado como verificação de identidade ou correspondência de itens, onde é preciso\n",
        "    comparar duas entradas e determinar se são semelhantes. Ao gerar todos os possíveis pares de imagens e indicar\n",
        "    se são da mesma classe, o modelo pode ser treinado para aprender a diferenciar entre 'semelhante' e 'não semelhante'.\n",
        "\n",
        "    Args:\n",
        "        X (np.array): Um array de numpy contendo as imagens do dataset.\n",
        "        y (np.array): Um array de numpy contendo os rótulos das imagens.\n",
        "\n",
        "    Returns:\n",
        "        X_pairs (np.array): Um array contendo todos os pares possíveis de imagens.\n",
        "        y_pairs (np.array): Um array de rótulos binários, onde 1 representa pares de imagens da mesma classe e\n",
        "                            0 representa pares de imagens de classes diferentes.\n",
        "\n",
        "    Nota:\n",
        "        A função usa a abordagem de produto cartesiano para gerar pares, o que pode ser muito intensivo em memória.\n",
        "        Em um dataset grande, considere gerar pares de forma estocástica ou usar um gerador Python para evitar\n",
        "        uso excessivo de memória.\n",
        "\n",
        "    Exemplo:\n",
        "        >> make_paired_dataset(np.array([img1, img2]), np.array([1, 2]))\n",
        "        (array([[img1, img1], [img1, img2], [img2, img1], [img2, img2]]),\n",
        "         array([1, 0, 0, 1]))\n",
        "\n",
        "    Verificar Artigo: https://ieeexplore.ieee.org/document/1467314 - Learning a similarity metric discriminatively, with application to face verification\n",
        "    \"\"\"\n",
        "\n",
        "    # Prepara uma lista para armazenar os pares de imagens e seus rótulos\n",
        "    X_pairs, y_pairs = [], []\n",
        "\n",
        "    # Cria uma lista de tuplas, onde cada tupla contém uma imagem e seu respectivo rótulo\n",
        "    tuples = list(zip(X, y))\n",
        "\n",
        "    # Gera todos os possíveis pares de imagens usando produto cartesiano\n",
        "    for (img_A, label_A), (img_B, label_B) in itertools.product(tuples, repeat=2):\n",
        "        # Adiciona os pares de imagens e o label (1 se os labels forem iguais, 0 caso contrário)\n",
        "        X_pairs.append([img_A, img_B])\n",
        "        y_pairs.append(int(label_A == label_B))\n",
        "\n",
        "    # Converte as listas de pares e rótulos em arrays de numpy para processamento pelo modelo\n",
        "    return np.array(X_pairs), np.array(y_pairs)\n"
      ],
      "metadata": {
        "id": "oI2xztORrazy"
      },
      "execution_count": 2,
      "outputs": []
    },
    {
      "cell_type": "code",
      "source": [
        "(x_train, y_train), (x_test, y_test) = cifar10.load_data()"
      ],
      "metadata": {
        "id": "IReBWvV813gh",
        "colab": {
          "base_uri": "https://localhost:8080/",
          "height": 0
        },
        "outputId": "2fc128a4-b388-4c39-f1cc-feacf6c70fc9"
      },
      "execution_count": 3,
      "outputs": [
        {
          "output_type": "stream",
          "name": "stdout",
          "text": [
            "Downloading data from https://www.cs.toronto.edu/~kriz/cifar-10-python.tar.gz\n",
            "170498071/170498071 [==============================] - 4s 0us/step\n"
          ]
        }
      ]
    },
    {
      "cell_type": "code",
      "source": [
        "x_train.shape, y_train.shape, x_test.shape, y_test.shape"
      ],
      "metadata": {
        "colab": {
          "base_uri": "https://localhost:8080/",
          "height": 0
        },
        "id": "Czqj5ADfNmad",
        "outputId": "94a5c6e0-016a-4d57-998c-19786b1388ee"
      },
      "execution_count": 4,
      "outputs": [
        {
          "output_type": "execute_result",
          "data": {
            "text/plain": [
              "((50000, 32, 32, 3), (50000, 1), (10000, 32, 32, 3), (10000, 1))"
            ]
          },
          "metadata": {},
          "execution_count": 4
        }
      ]
    },
    {
      "cell_type": "code",
      "source": [
        "# Filtrando apenas as imagens de gatos e cães (classes 3 e 5)\n",
        "cat_indices = np.where(y_train == 3)[0]\n",
        "dog_indices = np.where(y_train == 5)[0]\n",
        "x_cat = x_train[cat_indices]\n",
        "x_dog = x_train[dog_indices]\n",
        "y_cat = np.zeros(len(cat_indices))\n",
        "y_dog = np.ones(len(dog_indices))"
      ],
      "metadata": {
        "id": "4P7Ku--M16VE"
      },
      "execution_count": 5,
      "outputs": []
    },
    {
      "cell_type": "code",
      "source": [
        "# Concatenando as imagens e os rótulos\n",
        "x_train = np.concatenate([x_cat, x_dog], axis=0)\n",
        "y_train = np.concatenate([y_cat, y_dog], axis=0)"
      ],
      "metadata": {
        "id": "kYZi5nmg19Sh"
      },
      "execution_count": 6,
      "outputs": []
    },
    {
      "cell_type": "code",
      "source": [
        "x_train.shape, y_train.shape, x_test.shape, y_test.shape"
      ],
      "metadata": {
        "colab": {
          "base_uri": "https://localhost:8080/",
          "height": 0
        },
        "id": "XDiLCcRDN2TO",
        "outputId": "4e2df145-d3f9-4cf3-e6b7-9e4019dd4285"
      },
      "execution_count": 7,
      "outputs": [
        {
          "output_type": "execute_result",
          "data": {
            "text/plain": [
              "((10000, 32, 32, 3), (10000,), (10000, 32, 32, 3), (10000, 1))"
            ]
          },
          "metadata": {},
          "execution_count": 7
        }
      ]
    },
    {
      "cell_type": "code",
      "source": [
        "#-------------------\n",
        "# Filtrando apenas as imagens de gatos e cães (classes 3 e 5)\n",
        "cat_indices = np.where(y_test == 3)[0]\n",
        "dog_indices = np.where(y_test == 5)[0]\n",
        "x_cat = x_test[cat_indices]\n",
        "x_dog = x_test[dog_indices]\n",
        "y_cat = np.zeros(len(cat_indices))\n",
        "y_dog = np.ones(len(dog_indices))\n",
        "\n",
        "# Concatenando as imagens e os rótulos\n",
        "# Imagens e rótulos selecionados são concatenados para formar o conjunto de treinamento final.\n",
        "x_test = np.concatenate([x_cat, x_dog], axis=0)\n",
        "y_test = np.concatenate([y_cat, y_dog], axis=0)\n",
        "#-------"
      ],
      "metadata": {
        "id": "NA2D3UF82Anl"
      },
      "execution_count": 8,
      "outputs": []
    },
    {
      "cell_type": "code",
      "source": [
        "x_train.shape, y_train.shape, x_test.shape, y_test.shape"
      ],
      "metadata": {
        "colab": {
          "base_uri": "https://localhost:8080/",
          "height": 0
        },
        "id": "7OUzfmNzN7xq",
        "outputId": "1aaa0542-4c40-4bde-959a-88d42f2cca40"
      },
      "execution_count": 9,
      "outputs": [
        {
          "output_type": "execute_result",
          "data": {
            "text/plain": [
              "((10000, 32, 32, 3), (10000,), (2000, 32, 32, 3), (2000,))"
            ]
          },
          "metadata": {},
          "execution_count": 9
        }
      ]
    },
    {
      "cell_type": "code",
      "source": [
        "def visualize_random_images(x_train, y_train, num_images=15):\n",
        "    plt.figure(figsize=(12, 12))\n",
        "    for i in range(num_images):\n",
        "        index = random.randint(0, len(x_train) - 1)\n",
        "        plt.subplot(5, 5, i+1)\n",
        "        plt.xticks([])\n",
        "        plt.yticks([])\n",
        "        plt.grid(False)\n",
        "        plt.imshow(x_train[index])\n",
        "        plt.xlabel(y_train[index])\n",
        "    plt.show()\n",
        "\n",
        "visualize_random_images(x_train, y_train)"
      ],
      "metadata": {
        "colab": {
          "base_uri": "https://localhost:8080/",
          "height": 598
        },
        "id": "zhOmGiI5xTl-",
        "outputId": "8a68eceb-28f1-4f2d-d995-8a941404e4c0"
      },
      "execution_count": 10,
      "outputs": [
        {
          "output_type": "display_data",
          "data": {
            "text/plain": [
              "<Figure size 1200x1200 with 15 Axes>"
            ],
            "image/png": "[encoded data removed]"
          },
          "metadata": {}
        }
      ]
    },
    {
      "cell_type": "code",
      "source": [
        "# Redimensionamento das imagens para o tamanho esperado pela Xception (71x71)\n",
        "x_train = np.array([img_to_array(array_to_img(im, scale=False).resize((71, 71))) for im in x_train])\n",
        "x_test = np.array([img_to_array(array_to_img(im, scale=False).resize((71, 71))) for im in x_test])"
      ],
      "metadata": {
        "id": "JTuDU-84cWZt"
      },
      "execution_count": 11,
      "outputs": []
    },
    {
      "cell_type": "code",
      "source": [
        "from tensorflow.keras.applications.xception import preprocess_input\n",
        "from keras import backend as K\n",
        "\n",
        "x_train = preprocess_input(x_train)\n",
        "x_test = preprocess_input(x_test)"
      ],
      "metadata": {
        "id": "LHhy15PAb51z"
      },
      "execution_count": 12,
      "outputs": []
    },
    {
      "cell_type": "code",
      "source": [
        "# Imprimir os valores normalizados\n",
        "print(\"Valores normalizados de x_train:\")\n",
        "print(x_train)\n",
        "\n",
        "print(\"\\nValores normalizados de x_test:\")\n",
        "print(x_test)"
      ],
      "metadata": {
        "id": "xjLrHj9nPQWD",
        "colab": {
          "base_uri": "https://localhost:8080/",
          "height": 0
        },
        "outputId": "8da3f912-0800-4375-bcfb-67853a616956"
      },
      "execution_count": 13,
      "outputs": [
        {
          "output_type": "stream",
          "name": "stdout",
          "text": [
            "Valores normalizados de x_train:\n",
            "[[[[-0.02745098 -0.01960784 -0.09019607]\n",
            "   [-0.05098039 -0.05882353 -0.1372549 ]\n",
            "   [-0.10588235 -0.15294117 -0.23137254]\n",
            "   ...\n",
            "   [ 0.5764706   0.6156863   0.67058825]\n",
            "   [ 0.58431375  0.6313726   0.6784314 ]\n",
            "   [ 0.58431375  0.6313726   0.6784314 ]]\n",
            "\n",
            "  [[-0.00392157  0.01176476 -0.05882353]\n",
            "   [-0.01960784 -0.02745098 -0.09019607]\n",
            "   [-0.06666666 -0.09803921 -0.17647058]\n",
            "   ...\n",
            "   [ 0.58431375  0.62352943  0.6784314 ]\n",
            "   [ 0.5921569   0.6392157   0.6862745 ]\n",
            "   [ 0.5921569   0.6392157   0.6862745 ]]\n",
            "\n",
            "  [[ 0.04313731  0.06666672  0.0196079 ]\n",
            "   [ 0.04313731  0.05098045  0.00392163]\n",
            "   [ 0.02745104  0.0196079  -0.03529412]\n",
            "   ...\n",
            "   [ 0.6         0.6627451   0.7019608 ]\n",
            "   [ 0.6156863   0.6784314   0.7176471 ]\n",
            "   [ 0.62352943  0.6862745   0.7254902 ]]\n",
            "\n",
            "  ...\n",
            "\n",
            "  [[-0.18431371 -0.35686272 -0.6784314 ]\n",
            "   [-0.18431371 -0.35686272 -0.6784314 ]\n",
            "   [-0.17647058 -0.34117645 -0.6784314 ]\n",
            "   ...\n",
            "   [ 0.09803927 -0.09803921 -0.3490196 ]\n",
            "   [ 0.09803927 -0.10588235 -0.34117645]\n",
            "   [ 0.09803927 -0.10588235 -0.34117645]]\n",
            "\n",
            "  [[-0.17647058 -0.3490196  -0.67058825]\n",
            "   [-0.17647058 -0.3490196  -0.67058825]\n",
            "   [-0.16862744 -0.3333333  -0.654902  ]\n",
            "   ...\n",
            "   [ 0.11372554 -0.09019607 -0.3333333 ]\n",
            "   [ 0.12156868 -0.09019607 -0.32549018]\n",
            "   [ 0.12156868 -0.09019607 -0.32549018]]\n",
            "\n",
            "  [[-0.17647058 -0.3490196  -0.67058825]\n",
            "   [-0.17647058 -0.3490196  -0.67058825]\n",
            "   [-0.16862744 -0.3333333  -0.654902  ]\n",
            "   ...\n",
            "   [ 0.12941182 -0.09019607 -0.3333333 ]\n",
            "   [ 0.13725495 -0.09019607 -0.32549018]\n",
            "   [ 0.13725495 -0.09019607 -0.32549018]]]\n",
            "\n",
            "\n",
            " [[[-0.1607843  -0.20784312 -0.25490195]\n",
            "   [-0.10588235 -0.15294117 -0.21568626]\n",
            "   [ 0.01176476 -0.03529412 -0.1372549 ]\n",
            "   ...\n",
            "   [-0.69411767 -0.69411767 -0.69411767]\n",
            "   [-0.7019608  -0.7019608  -0.7019608 ]\n",
            "   [-0.7019608  -0.7019608  -0.7019608 ]]\n",
            "\n",
            "  [[-0.1607843  -0.20784312 -0.25490195]\n",
            "   [-0.10588235 -0.15294117 -0.21568626]\n",
            "   [ 0.01176476 -0.03529412 -0.1372549 ]\n",
            "   ...\n",
            "   [-0.69411767 -0.69411767 -0.69411767]\n",
            "   [-0.7019608  -0.7019608  -0.7019608 ]\n",
            "   [-0.7019608  -0.7019608  -0.7019608 ]]\n",
            "\n",
            "  [[-0.1607843  -0.20784312 -0.26274508]\n",
            "   [-0.10588235 -0.1607843  -0.23137254]\n",
            "   [ 0.00392163 -0.04313725 -0.15294117]\n",
            "   ...\n",
            "   [-0.69411767 -0.69411767 -0.69411767]\n",
            "   [-0.70980394 -0.70980394 -0.70980394]\n",
            "   [-0.70980394 -0.70980394 -0.7176471 ]]\n",
            "\n",
            "  ...\n",
            "\n",
            "  [[-0.5294118  -0.5686275  -0.58431375]\n",
            "   [-0.5372549  -0.5686275  -0.5764706 ]\n",
            "   [-0.5529412  -0.5686275  -0.5294118 ]\n",
            "   ...\n",
            "   [-0.62352943 -0.6392157  -0.5294118 ]\n",
            "   [-0.60784316 -0.6313726  -0.52156866]\n",
            "   [-0.60784316 -0.6313726  -0.52156866]]\n",
            "\n",
            "  [[-0.56078434 -0.6        -0.6156863 ]\n",
            "   [-0.5529412  -0.5921569  -0.5921569 ]\n",
            "   [-0.54509807 -0.5529412  -0.5137255 ]\n",
            "   ...\n",
            "   [-0.6156863  -0.6313726  -0.52156866]\n",
            "   [-0.6        -0.62352943 -0.5137255 ]\n",
            "   [-0.6        -0.62352943 -0.5137255 ]]\n",
            "\n",
            "  [[-0.5764706  -0.6156863  -0.6313726 ]\n",
            "   [-0.56078434 -0.5921569  -0.5921569 ]\n",
            "   [-0.54509807 -0.5529412  -0.5058824 ]\n",
            "   ...\n",
            "   [-0.6156863  -0.6313726  -0.52156866]\n",
            "   [-0.6        -0.62352943 -0.5137255 ]\n",
            "   [-0.6        -0.62352943 -0.5137255 ]]]\n",
            "\n",
            "\n",
            " [[[ 0.9764706  -0.94509804 -0.67058825]\n",
            "   [ 0.9764706  -0.92941177 -0.67058825]\n",
            "   [ 0.9607843  -0.8980392  -0.67058825]\n",
            "   ...\n",
            "   [ 0.96862745 -1.         -0.8352941 ]\n",
            "   [ 0.96862745 -0.99215686 -0.78039217]\n",
            "   [ 0.96862745 -0.99215686 -0.75686276]]\n",
            "\n",
            "  [[ 0.9764706  -0.94509804 -0.67058825]\n",
            "   [ 0.9764706  -0.92941177 -0.67058825]\n",
            "   [ 0.9607843  -0.8980392  -0.67058825]\n",
            "   ...\n",
            "   [ 0.9764706  -1.         -0.8352941 ]\n",
            "   [ 0.96862745 -0.99215686 -0.78039217]\n",
            "   [ 0.96862745 -0.99215686 -0.75686276]]\n",
            "\n",
            "  [[ 0.99215686 -0.9529412  -0.6627451 ]\n",
            "   [ 0.99215686 -0.9372549  -0.6627451 ]\n",
            "   [ 0.9764706  -0.90588236 -0.6627451 ]\n",
            "   ...\n",
            "   [ 0.99215686 -1.         -0.81960785]\n",
            "   [ 0.9843137  -0.9764706  -0.7647059 ]\n",
            "   [ 0.9843137  -0.9843137  -0.7411765 ]]\n",
            "\n",
            "  ...\n",
            "\n",
            "  [[ 0.9137255  -0.6627451  -0.41176468]\n",
            "   [ 0.92156863 -0.654902   -0.40392154]\n",
            "   [ 0.94509804 -0.62352943 -0.3960784 ]\n",
            "   ...\n",
            "   [ 0.9843137  -0.4823529  -0.23921567]\n",
            "   [ 0.9843137  -0.5372549  -0.30196077]\n",
            "   [ 0.9843137  -0.56078434 -0.32549018]]\n",
            "\n",
            "  [[ 0.85882354 -0.70980394 -0.4588235 ]\n",
            "   [ 0.8745098  -0.69411767 -0.45098037]\n",
            "   [ 0.92156863 -0.64705884 -0.41960782]\n",
            "   ...\n",
            "   [ 0.96862745 -0.46666664 -0.21568626]\n",
            "   [ 0.96862745 -0.5294118  -0.2862745 ]\n",
            "   [ 0.96862745 -0.56078434 -0.32549018]]\n",
            "\n",
            "  [[ 0.8352941  -0.7254902  -0.4823529 ]\n",
            "   [ 0.85882354 -0.70980394 -0.46666664]\n",
            "   [ 0.90588236 -0.6627451  -0.4352941 ]\n",
            "   ...\n",
            "   [ 0.9607843  -0.46666664 -0.20784312]\n",
            "   [ 0.96862745 -0.5294118  -0.2862745 ]\n",
            "   [ 0.96862745 -0.56078434 -0.32549018]]]\n",
            "\n",
            "\n",
            " ...\n",
            "\n",
            "\n",
            " [[[-1.         -1.         -1.        ]\n",
            "   [-1.         -1.         -1.        ]\n",
            "   [-1.         -1.         -1.        ]\n",
            "   ...\n",
            "   [-1.         -1.         -1.        ]\n",
            "   [-1.         -1.         -1.        ]\n",
            "   [-1.         -1.         -1.        ]]\n",
            "\n",
            "  [[-1.         -1.         -1.        ]\n",
            "   [-1.         -1.         -1.        ]\n",
            "   [-1.         -1.         -1.        ]\n",
            "   ...\n",
            "   [-1.         -1.         -1.        ]\n",
            "   [-1.         -1.         -1.        ]\n",
            "   [-1.         -1.         -1.        ]]\n",
            "\n",
            "  [[-1.         -1.         -1.        ]\n",
            "   [-1.         -1.         -1.        ]\n",
            "   [-1.         -1.         -1.        ]\n",
            "   ...\n",
            "   [-1.         -1.         -1.        ]\n",
            "   [-1.         -1.         -1.        ]\n",
            "   [-1.         -1.         -1.        ]]\n",
            "\n",
            "  ...\n",
            "\n",
            "  [[-1.         -0.99215686 -1.        ]\n",
            "   [-1.         -0.99215686 -1.        ]\n",
            "   [-1.         -0.99215686 -1.        ]\n",
            "   ...\n",
            "   [-1.         -1.         -1.        ]\n",
            "   [-1.         -1.         -1.        ]\n",
            "   [-0.99215686 -1.         -1.        ]]\n",
            "\n",
            "  [[-1.         -0.99215686 -1.        ]\n",
            "   [-1.         -0.99215686 -1.        ]\n",
            "   [-1.         -0.99215686 -1.        ]\n",
            "   ...\n",
            "   [-1.         -1.         -1.        ]\n",
            "   [-1.         -1.         -1.        ]\n",
            "   [-1.         -1.         -1.        ]]\n",
            "\n",
            "  [[-1.         -0.99215686 -1.        ]\n",
            "   [-1.         -0.99215686 -1.        ]\n",
            "   [-1.         -0.99215686 -1.        ]\n",
            "   ...\n",
            "   [-1.         -1.         -1.        ]\n",
            "   [-1.         -1.         -1.        ]\n",
            "   [-1.         -1.         -1.        ]]]\n",
            "\n",
            "\n",
            " [[[-0.09019607 -0.08235294 -0.11372548]\n",
            "   [-0.12156862 -0.06666666 -0.12156862]\n",
            "   [-0.19215685 -0.03529412 -0.12941176]\n",
            "   ...\n",
            "   [ 0.07450986  0.15294123  0.05098045]\n",
            "   [ 0.16078436  0.20784318  0.13725495]\n",
            "   [ 0.20000005  0.23921573  0.17647064]]\n",
            "\n",
            "  [[-0.1607843  -0.1372549  -0.18431371]\n",
            "   [-0.19215685 -0.12156862 -0.19215685]\n",
            "   [-0.27843136 -0.09019607 -0.21568626]\n",
            "   ...\n",
            "   [ 0.03529418  0.12156868  0.01176476]\n",
            "   [ 0.082353    0.14509809  0.05882359]\n",
            "   [ 0.10588241  0.16078436  0.082353  ]]\n",
            "\n",
            "  [[-0.32549018 -0.26274508 -0.3490196 ]\n",
            "   [-0.36470586 -0.24705881 -0.36470586]\n",
            "   [-0.4588235  -0.23137254 -0.40392154]\n",
            "   ...\n",
            "   [-0.05098039  0.05098045 -0.09019607]\n",
            "   [-0.10588235 -0.00392157 -0.12156862]\n",
            "   [-0.12941176 -0.03529412 -0.1372549 ]]\n",
            "\n",
            "  ...\n",
            "\n",
            "  [[-0.4352941  -0.6156863  -0.5686275 ]\n",
            "   [-0.40392154 -0.6        -0.56078434]\n",
            "   [-0.34117645 -0.5686275  -0.5372549 ]\n",
            "   ...\n",
            "   [-0.5686275  -0.49019605 -0.5294118 ]\n",
            "   [-0.52156866 -0.41176468 -0.49019605]\n",
            "   [-0.4980392  -0.38823527 -0.47450978]]\n",
            "\n",
            "  [[-0.44313723 -0.6        -0.49019605]\n",
            "   [-0.3960784  -0.58431375 -0.4823529 ]\n",
            "   [-0.29411763 -0.5529412  -0.42745095]\n",
            "   ...\n",
            "   [-0.60784316 -0.372549   -0.46666664]\n",
            "   [-0.5058824  -0.3098039  -0.40392154]\n",
            "   [-0.4588235  -0.29411763 -0.372549  ]]\n",
            "\n",
            "  [[-0.44313723 -0.5921569  -0.4588235 ]\n",
            "   [-0.3960784  -0.5764706  -0.44313723]\n",
            "   [-0.27843136 -0.54509807 -0.38823527]\n",
            "   ...\n",
            "   [-0.62352943 -0.31764704 -0.4352941 ]\n",
            "   [-0.5058824  -0.27058822 -0.36470586]\n",
            "   [-0.44313723 -0.25490195 -0.3333333 ]]]\n",
            "\n",
            "\n",
            " [[[ 0.26274514  0.30196083  0.24705887]\n",
            "   [ 0.27843142  0.3176471   0.26274514]\n",
            "   [ 0.33333337  0.37254906  0.3176471 ]\n",
            "   ...\n",
            "   [ 0.23921573  0.30980396  0.17647064]\n",
            "   [ 0.22352946  0.2941177   0.16078436]\n",
            "   [ 0.21568632  0.28627455  0.15294123]]\n",
            "\n",
            "  [[ 0.23921573  0.27843142  0.22352946]\n",
            "   [ 0.254902    0.2941177   0.23921573]\n",
            "   [ 0.2941177   0.33333337  0.27843142]\n",
            "   ...\n",
            "   [ 0.21568632  0.28627455  0.15294123]\n",
            "   [ 0.20000005  0.27058828  0.13725495]\n",
            "   [ 0.20000005  0.27058828  0.13725495]]\n",
            "\n",
            "  [[ 0.18431377  0.22352946  0.1686275 ]\n",
            "   [ 0.19215691  0.2313726   0.17647064]\n",
            "   [ 0.20000005  0.23921573  0.18431377]\n",
            "   ...\n",
            "   [ 0.15294123  0.22352946  0.09019613]\n",
            "   [ 0.15294123  0.22352946  0.09019613]\n",
            "   [ 0.14509809  0.21568632  0.082353  ]]\n",
            "\n",
            "  ...\n",
            "\n",
            "  [[ 0.13725495 -0.20784312 -0.4588235 ]\n",
            "   [ 0.15294123 -0.19215685 -0.45098037]\n",
            "   [ 0.20784318 -0.14509803 -0.41960782]\n",
            "   ...\n",
            "   [-0.05098039 -0.19215685 -0.372549  ]\n",
            "   [-0.04313725 -0.18431371 -0.35686272]\n",
            "   [-0.04313725 -0.18431371 -0.35686272]]\n",
            "\n",
            "  [[ 0.12156868 -0.2235294  -0.47450978]\n",
            "   [ 0.13725495 -0.20784312 -0.46666664]\n",
            "   [ 0.18431377 -0.16862744 -0.4352941 ]\n",
            "   ...\n",
            "   [-0.05098039 -0.19999999 -0.38823527]\n",
            "   [-0.04313725 -0.19999999 -0.38039213]\n",
            "   [-0.04313725 -0.19999999 -0.38039213]]\n",
            "\n",
            "  [[ 0.11372554 -0.23137254 -0.47450978]\n",
            "   [ 0.12941182 -0.21568626 -0.46666664]\n",
            "   [ 0.17647064 -0.17647058 -0.44313723]\n",
            "   ...\n",
            "   [-0.05098039 -0.19999999 -0.38823527]\n",
            "   [-0.04313725 -0.19999999 -0.38823527]\n",
            "   [-0.04313725 -0.19999999 -0.38823527]]]]\n",
            "\n",
            "Valores normalizados de x_test:\n",
            "[[[[ 0.24705887 -0.12156862 -0.6156863 ]\n",
            "   [ 0.24705887 -0.12156862 -0.6156863 ]\n",
            "   [ 0.24705887 -0.12941176 -0.6313726 ]\n",
            "   ...\n",
            "   [-0.04313725 -0.3098039  -0.7254902 ]\n",
            "   [-0.08235294 -0.32549018 -0.7411765 ]\n",
            "   [-0.09803921 -0.34117645 -0.7411765 ]]\n",
            "\n",
            "  [[ 0.2313726  -0.12156862 -0.6156863 ]\n",
            "   [ 0.2313726  -0.12156862 -0.6156863 ]\n",
            "   [ 0.2313726  -0.12941176 -0.6313726 ]\n",
            "   ...\n",
            "   [-0.04313725 -0.3098039  -0.7254902 ]\n",
            "   [-0.08235294 -0.32549018 -0.7411765 ]\n",
            "   [-0.09803921 -0.34117645 -0.7411765 ]]\n",
            "\n",
            "  [[ 0.20784318 -0.12156862 -0.6       ]\n",
            "   [ 0.20784318 -0.12156862 -0.60784316]\n",
            "   [ 0.20784318 -0.1372549  -0.6392157 ]\n",
            "   ...\n",
            "   [-0.04313725 -0.30196077 -0.73333335]\n",
            "   [-0.06666666 -0.31764704 -0.73333335]\n",
            "   [-0.08235294 -0.31764704 -0.73333335]]\n",
            "\n",
            "  ...\n",
            "\n",
            "  [[-0.54509807 -0.11372548  0.30196083]\n",
            "   [-0.5529412  -0.12941176  0.27843142]\n",
            "   [-0.5686275  -0.1607843   0.22352946]\n",
            "   ...\n",
            "   [-0.78039217 -0.3960784  -0.05098039]\n",
            "   [-0.8352941  -0.4823529  -0.14509803]\n",
            "   [-0.85882354 -0.52156866 -0.18431371]]\n",
            "\n",
            "  [[-0.5686275  -0.15294117  0.27058828]\n",
            "   [-0.5686275  -0.15294117  0.254902  ]\n",
            "   [-0.56078434 -0.1607843   0.20784318]\n",
            "   ...\n",
            "   [-0.7647059  -0.38823527 -0.04313725]\n",
            "   [-0.81960785 -0.46666664 -0.12941176]\n",
            "   [-0.84313726 -0.4980392  -0.1607843 ]]\n",
            "\n",
            "  [[-0.58431375 -0.16862744  0.254902  ]\n",
            "   [-0.58431375 -0.16862744  0.23921573]\n",
            "   [-0.56078434 -0.1607843   0.20784318]\n",
            "   ...\n",
            "   [-0.7647059  -0.38823527 -0.04313725]\n",
            "   [-0.81960785 -0.4588235  -0.12156862]\n",
            "   [-0.84313726 -0.49019605 -0.15294117]]]\n",
            "\n",
            "\n",
            " [[[-0.81960785 -0.8509804  -0.81960785]\n",
            "   [-0.827451   -0.8509804  -0.8117647 ]\n",
            "   [-0.84313726 -0.8352941  -0.7882353 ]\n",
            "   ...\n",
            "   [ 0.5529412   0.17647064 -0.05882353]\n",
            "   [ 0.54509807  0.17647064 -0.06666666]\n",
            "   [ 0.54509807  0.17647064 -0.06666666]]\n",
            "\n",
            "  [[-0.81960785 -0.8509804  -0.81960785]\n",
            "   [-0.827451   -0.8509804  -0.8117647 ]\n",
            "   [-0.84313726 -0.8352941  -0.7882353 ]\n",
            "   ...\n",
            "   [ 0.56078434  0.19215691 -0.04313725]\n",
            "   [ 0.5529412   0.19215691 -0.05098039]\n",
            "   [ 0.5529412   0.19215691 -0.05098039]]\n",
            "\n",
            "  [[-0.81960785 -0.84313726 -0.8117647 ]\n",
            "   [-0.827451   -0.84313726 -0.8117647 ]\n",
            "   [-0.84313726 -0.84313726 -0.79607844]\n",
            "   ...\n",
            "   [ 0.5764706   0.23921573 -0.01960784]\n",
            "   [ 0.5686275   0.23921573 -0.01960784]\n",
            "   [ 0.5686275   0.23921573 -0.01960784]]\n",
            "\n",
            "  ...\n",
            "\n",
            "  [[ 0.28627455  0.33333337  0.05882359]\n",
            "   [ 0.26274514  0.30196083  0.02745104]\n",
            "   [ 0.19215691  0.2313726  -0.03529412]\n",
            "   ...\n",
            "   [ 0.20000005  0.04313731 -0.06666666]\n",
            "   [ 0.19215691  0.05098045 -0.05882353]\n",
            "   [ 0.19215691  0.05098045 -0.06666666]]\n",
            "\n",
            "  [[ 0.21568632  0.26274514 -0.00392157]\n",
            "   [ 0.18431377  0.2313726  -0.03529412]\n",
            "   [ 0.11372554  0.16078436 -0.12156862]\n",
            "   ...\n",
            "   [ 0.20784318  0.05882359 -0.05098039]\n",
            "   [ 0.18431377  0.04313731 -0.06666666]\n",
            "   [ 0.17647064  0.03529418 -0.0745098 ]]\n",
            "\n",
            "  [[ 0.18431377  0.2313726  -0.03529412]\n",
            "   [ 0.15294123  0.20000005 -0.06666666]\n",
            "   [ 0.082353    0.12941182 -0.15294117]\n",
            "   ...\n",
            "   [ 0.20784318  0.05882359 -0.05098039]\n",
            "   [ 0.18431377  0.04313731 -0.06666666]\n",
            "   [ 0.17647064  0.03529418 -0.0745098 ]]]\n",
            "\n",
            "\n",
            " [[[-0.8352941  -0.79607844 -0.85882354]\n",
            "   [-0.81960785 -0.78039217 -0.84313726]\n",
            "   [-0.79607844 -0.7411765  -0.8117647 ]\n",
            "   ...\n",
            "   [ 0.62352943  0.17647064 -0.09019607]\n",
            "   [ 0.5294118   0.17647064 -0.05882353]\n",
            "   [ 0.4901961   0.17647064 -0.04313725]]\n",
            "\n",
            "  [[-0.8352941  -0.79607844 -0.85882354]\n",
            "   [-0.81960785 -0.78039217 -0.84313726]\n",
            "   [-0.78039217 -0.7411765  -0.8117647 ]\n",
            "   ...\n",
            "   [ 0.6392157   0.17647064 -0.09019607]\n",
            "   [ 0.54509807  0.17647064 -0.05882353]\n",
            "   [ 0.5058824   0.17647064 -0.05098039]]\n",
            "\n",
            "  [[-0.84313726 -0.8039216  -0.8745098 ]\n",
            "   [-0.8117647  -0.78039217 -0.8509804 ]\n",
            "   [-0.75686276 -0.7254902  -0.79607844]\n",
            "   ...\n",
            "   [ 0.6784314   0.19215691 -0.09019607]\n",
            "   [ 0.5764706   0.17647064 -0.0745098 ]\n",
            "   [ 0.5372549   0.1686275  -0.06666666]]\n",
            "\n",
            "  ...\n",
            "\n",
            "  [[ 0.30196083  0.11372554 -0.06666666]\n",
            "   [ 0.28627455  0.09803927 -0.08235294]\n",
            "   [ 0.24705887  0.05882359 -0.12941176]\n",
            "   ...\n",
            "   [-0.5686275  -0.5372549  -0.45098037]\n",
            "   [-0.56078434 -0.5294118  -0.44313723]\n",
            "   [-0.56078434 -0.5294118  -0.44313723]]\n",
            "\n",
            "  [[ 0.32549024  0.13725495 -0.04313725]\n",
            "   [ 0.30980396  0.12156868 -0.05882353]\n",
            "   [ 0.26274514  0.07450986 -0.10588235]\n",
            "   ...\n",
            "   [-0.5529412  -0.52156866 -0.44313723]\n",
            "   [-0.54509807 -0.5137255  -0.4352941 ]\n",
            "   [-0.54509807 -0.5137255  -0.4352941 ]]\n",
            "\n",
            "  [[ 0.3411765   0.15294123 -0.02745098]\n",
            "   [ 0.32549024  0.13725495 -0.04313725]\n",
            "   [ 0.27843142  0.09019613 -0.09019607]\n",
            "   ...\n",
            "   [-0.5529412  -0.52156866 -0.44313723]\n",
            "   [-0.54509807 -0.5137255  -0.4352941 ]\n",
            "   [-0.54509807 -0.5137255  -0.4352941 ]]]\n",
            "\n",
            "\n",
            " ...\n",
            "\n",
            "\n",
            " [[[-0.32549018 -0.23921567 -0.29411763]\n",
            "   [-0.35686272 -0.26274508 -0.27058822]\n",
            "   [-0.44313723 -0.29411763 -0.21568626]\n",
            "   ...\n",
            "   [-0.19999999 -0.14509803 -0.19999999]\n",
            "   [-0.19215685 -0.17647058 -0.26274508]\n",
            "   [-0.19215685 -0.18431371 -0.2862745 ]]\n",
            "\n",
            "  [[-0.3490196  -0.25490195 -0.30196077]\n",
            "   [-0.372549   -0.27058822 -0.27843136]\n",
            "   [-0.45098037 -0.30196077 -0.21568626]\n",
            "   ...\n",
            "   [-0.21568626 -0.1607843  -0.19999999]\n",
            "   [-0.19215685 -0.17647058 -0.24705881]\n",
            "   [-0.17647058 -0.17647058 -0.26274508]]\n",
            "\n",
            "  [[-0.40392154 -0.30196077 -0.34117645]\n",
            "   [-0.42745095 -0.3098039  -0.30196077]\n",
            "   [-0.4823529  -0.31764704 -0.23921567]\n",
            "   ...\n",
            "   [-0.23921567 -0.18431371 -0.20784312]\n",
            "   [-0.17647058 -0.16862744 -0.20784312]\n",
            "   [-0.14509803 -0.15294117 -0.20784312]]\n",
            "\n",
            "  ...\n",
            "\n",
            "  [[-0.31764704 -0.12941176 -0.11372548]\n",
            "   [-0.29411763 -0.11372548 -0.11372548]\n",
            "   [-0.23921567 -0.10588235 -0.10588235]\n",
            "   ...\n",
            "   [-0.38823527 -0.32549018 -0.3490196 ]\n",
            "   [-0.372549   -0.3098039  -0.34117645]\n",
            "   [-0.35686272 -0.30196077 -0.34117645]]\n",
            "\n",
            "  [[-0.372549   -0.14509803 -0.09019607]\n",
            "   [-0.372549   -0.1372549  -0.09019607]\n",
            "   [-0.3490196  -0.14509803 -0.09019607]\n",
            "   ...\n",
            "   [-0.41960782 -0.3098039  -0.30196077]\n",
            "   [-0.40392154 -0.27843136 -0.27058822]\n",
            "   [-0.3960784  -0.26274508 -0.26274508]]\n",
            "\n",
            "  [[-0.3960784  -0.14509803 -0.0745098 ]\n",
            "   [-0.40392154 -0.14509803 -0.0745098 ]\n",
            "   [-0.38823527 -0.1607843  -0.0745098 ]\n",
            "   ...\n",
            "   [-0.4352941  -0.3098039  -0.2862745 ]\n",
            "   [-0.41960782 -0.26274508 -0.23921567]\n",
            "   [-0.41176468 -0.24705881 -0.2235294 ]]]\n",
            "\n",
            "\n",
            " [[[-0.26274508 -0.2235294  -0.27843136]\n",
            "   [-0.26274508 -0.23921567 -0.27843136]\n",
            "   [-0.27058822 -0.27058822 -0.2862745 ]\n",
            "   ...\n",
            "   [-0.5058824  -0.5294118  -0.4588235 ]\n",
            "   [-0.5764706  -0.6156863  -0.54509807]\n",
            "   [-0.60784316 -0.654902   -0.58431375]]\n",
            "\n",
            "  [[-0.24705881 -0.2235294  -0.27843136]\n",
            "   [-0.24705881 -0.23921567 -0.27843136]\n",
            "   [-0.25490195 -0.25490195 -0.2862745 ]\n",
            "   ...\n",
            "   [-0.4980392  -0.52156866 -0.45098037]\n",
            "   [-0.5764706  -0.6156863  -0.54509807]\n",
            "   [-0.60784316 -0.654902   -0.58431375]]\n",
            "\n",
            "  [[-0.2235294  -0.21568626 -0.26274508]\n",
            "   [-0.2235294  -0.2235294  -0.26274508]\n",
            "   [-0.23137254 -0.23921567 -0.27058822]\n",
            "   ...\n",
            "   [-0.4823529  -0.5058824  -0.4352941 ]\n",
            "   [-0.56078434 -0.6        -0.5294118 ]\n",
            "   [-0.5921569  -0.6392157  -0.5686275 ]]\n",
            "\n",
            "  ...\n",
            "\n",
            "  [[ 0.6784314   0.67058825  0.70980394]\n",
            "   [ 0.69411767  0.6784314   0.7176471 ]\n",
            "   [ 0.70980394  0.69411767  0.73333335]\n",
            "   ...\n",
            "   [-0.5372549  -0.5372549  -0.47450978]\n",
            "   [-0.5372549  -0.5372549  -0.47450978]\n",
            "   [-0.5372549  -0.5372549  -0.47450978]]\n",
            "\n",
            "  [[ 0.6313726   0.62352943  0.6627451 ]\n",
            "   [ 0.6392157   0.62352943  0.6627451 ]\n",
            "   [ 0.654902    0.6313726   0.67058825]\n",
            "   ...\n",
            "   [-0.5764706  -0.58431375 -0.5372549 ]\n",
            "   [-0.5686275  -0.58431375 -0.5294118 ]\n",
            "   [-0.5686275  -0.58431375 -0.5294118 ]]\n",
            "\n",
            "  [[ 0.6156863   0.6         0.6392157 ]\n",
            "   [ 0.6156863   0.6         0.6392157 ]\n",
            "   [ 0.62352943  0.6         0.6392157 ]\n",
            "   ...\n",
            "   [-0.5921569  -0.60784316 -0.5686275 ]\n",
            "   [-0.58431375 -0.6        -0.56078434]\n",
            "   [-0.58431375 -0.6        -0.56078434]]]\n",
            "\n",
            "\n",
            " [[[-0.84313726 -0.88235295 -0.90588236]\n",
            "   [-0.84313726 -0.88235295 -0.90588236]\n",
            "   [-0.84313726 -0.8901961  -0.9137255 ]\n",
            "   ...\n",
            "   [-0.8980392  -0.90588236 -0.92156863]\n",
            "   [-0.8980392  -0.90588236 -0.92156863]\n",
            "   [-0.8980392  -0.90588236 -0.92156863]]\n",
            "\n",
            "  [[-0.84313726 -0.88235295 -0.90588236]\n",
            "   [-0.84313726 -0.88235295 -0.90588236]\n",
            "   [-0.84313726 -0.8901961  -0.9137255 ]\n",
            "   ...\n",
            "   [-0.8980392  -0.90588236 -0.92156863]\n",
            "   [-0.8980392  -0.90588236 -0.92156863]\n",
            "   [-0.8980392  -0.90588236 -0.92156863]]\n",
            "\n",
            "  [[-0.8352941  -0.8745098  -0.8980392 ]\n",
            "   [-0.8352941  -0.8745098  -0.8980392 ]\n",
            "   [-0.8352941  -0.88235295 -0.90588236]\n",
            "   ...\n",
            "   [-0.90588236 -0.9137255  -0.92941177]\n",
            "   [-0.90588236 -0.9137255  -0.92941177]\n",
            "   [-0.90588236 -0.9137255  -0.92941177]]\n",
            "\n",
            "  ...\n",
            "\n",
            "  [[-0.7490196  -0.8117647  -0.8980392 ]\n",
            "   [-0.7490196  -0.8117647  -0.8980392 ]\n",
            "   [-0.7411765  -0.8039216  -0.8901961 ]\n",
            "   ...\n",
            "   [-0.79607844 -0.81960785 -0.5921569 ]\n",
            "   [-0.8039216  -0.8352941  -0.62352943]\n",
            "   [-0.8039216  -0.8352941  -0.6392157 ]]\n",
            "\n",
            "  [[-0.75686276 -0.81960785 -0.90588236]\n",
            "   [-0.75686276 -0.81960785 -0.90588236]\n",
            "   [-0.7490196  -0.8117647  -0.8980392 ]\n",
            "   ...\n",
            "   [-0.79607844 -0.827451   -0.6       ]\n",
            "   [-0.8039216  -0.84313726 -0.62352943]\n",
            "   [-0.8039216  -0.84313726 -0.6392157 ]]\n",
            "\n",
            "  [[-0.75686276 -0.81960785 -0.90588236]\n",
            "   [-0.75686276 -0.81960785 -0.90588236]\n",
            "   [-0.7490196  -0.8117647  -0.8980392 ]\n",
            "   ...\n",
            "   [-0.79607844 -0.827451   -0.6       ]\n",
            "   [-0.8039216  -0.84313726 -0.62352943]\n",
            "   [-0.8039216  -0.84313726 -0.6392157 ]]]]\n"
          ]
        }
      ]
    },
    {
      "cell_type": "code",
      "source": [
        "x_train.shape"
      ],
      "metadata": {
        "colab": {
          "base_uri": "https://localhost:8080/",
          "height": 0
        },
        "id": "YX6bcUplr0Mk",
        "outputId": "8c271dd3-f819-4378-9214-1707a90b4b69"
      },
      "execution_count": 14,
      "outputs": [
        {
          "output_type": "execute_result",
          "data": {
            "text/plain": [
              "(10000, 71, 71, 3)"
            ]
          },
          "metadata": {},
          "execution_count": 14
        }
      ]
    },
    {
      "cell_type": "code",
      "source": [
        "# Definindo a arquitetura da rede siamesa\n",
        "def create_siamese_network(input_shape):\n",
        "    input_image1 = Input(shape=input_shape)\n",
        "    input_image2 = Input(shape=input_shape)\n",
        "\n",
        "    # Ramo esquerdo da rede\n",
        "    base_model = Xception(\n",
        "        include_top=False,\n",
        "        weights=\"imagenet\",\n",
        "        input_shape=(71, 71, 3),\n",
        "        pooling='avg'\n",
        "    )\n",
        "\n",
        "# Freezing layers\n",
        "    for layer in base_model.layers:\n",
        "        layer.trainable = False\n",
        "\n",
        "    # Branches\n",
        "    left_branch = base_model(input_image1)\n",
        "    right_branch = base_model(input_image2)\n",
        "\n",
        "    # Euclidean distance\n",
        "    # distance = Lambda(lambda tensors: tf.abs(tensors[0] - tensors[1]))([left_branch, right_branch])\n",
        "\n",
        "    L1_layer = Lambda(lambda tensors:K.abs(tensors[0] - tensors[1]))\n",
        "    L1_distance = L1_layer([left_branch, right_branch])\n",
        "    prediction = Dense(1,activation='sigmoid')(L1_distance)\n",
        "    model = Model(inputs=[input_image1,input_image2],outputs=prediction)\n",
        "\n",
        "    # Final dense layer\n",
        "    # output = Dense(1, activation='sigmoid')(distance)\n",
        "\n",
        "    # Siamese model assembly\n",
        "    # model = Model(inputs=[input_image1, input_image2], outputs=output)\n",
        "\n",
        "    return model"
      ],
      "metadata": {
        "id": "3kXKGqikllWg"
      },
      "execution_count": 15,
      "outputs": []
    },
    {
      "cell_type": "code",
      "source": [
        "# Criando a rede siamesa\n",
        "input_shape = x_train.shape[1:]\n",
        "siamese_network = create_siamese_network(input_shape)\n",
        "print(input_shape)"
      ],
      "metadata": {
        "id": "MoLdBkFp2Kiz",
        "colab": {
          "base_uri": "https://localhost:8080/",
          "height": 0
        },
        "outputId": "cc9e38ea-4f6c-4f29-d4ee-8b06dbaf14a1"
      },
      "execution_count": 16,
      "outputs": [
        {
          "output_type": "stream",
          "name": "stdout",
          "text": [
            "Downloading data from https://storage.googleapis.com/tensorflow/keras-applications/xception/xception_weights_tf_dim_ordering_tf_kernels_notop.h5\n",
            "83683744/83683744 [==============================] - 1s 0us/step\n",
            "(71, 71, 3)\n"
          ]
        }
      ]
    },
    {
      "cell_type": "code",
      "source": [
        "x_train.shape[0]** 2"
      ],
      "metadata": {
        "colab": {
          "base_uri": "https://localhost:8080/",
          "height": 0
        },
        "id": "7mjAdyk8s4FT",
        "outputId": "574c6998-e582-4c86-fba2-80547d9f2962"
      },
      "execution_count": 17,
      "outputs": [
        {
          "output_type": "execute_result",
          "data": {
            "text/plain": [
              "100000000"
            ]
          },
          "metadata": {},
          "execution_count": 17
        }
      ]
    },
    {
      "cell_type": "code",
      "source": [
        "# Seleção aleatória de exemplos do dataset para criar pares\n",
        "random_indices = np.random.choice(x_train.shape[0], 150, replace=False)\n",
        "x_train_sample, y_train_sample = x_train[random_indices], y_train[random_indices]\n",
        "x_train_sample.shape, y_train_sample.shape\n"
      ],
      "metadata": {
        "colab": {
          "base_uri": "https://localhost:8080/",
          "height": 0
        },
        "id": "K5-Z8qvAtGj7",
        "outputId": "75cd6229-a6d7-4788-d831-af716ae2fa1e"
      },
      "execution_count": 18,
      "outputs": [
        {
          "output_type": "execute_result",
          "data": {
            "text/plain": [
              "((150, 71, 71, 3), (150,))"
            ]
          },
          "metadata": {},
          "execution_count": 18
        }
      ]
    },
    {
      "cell_type": "code",
      "source": [
        "# Seleção aleatória de exemplos do dataset para criar pares\n",
        "random_indices = np.random.choice(x_test.shape[0], 100, replace=False)\n",
        "# Aplicando a função para criar os datasets de teste\n",
        "x_test_sample, y_test_sample = x_test[random_indices], y_test[random_indices]\n",
        "x_test_sample.shape, y_test_sample.shape\n"
      ],
      "metadata": {
        "colab": {
          "base_uri": "https://localhost:8080/",
          "height": 0
        },
        "id": "649bj5x9tKUv",
        "outputId": "ce5c75b0-d4dd-4b0a-c5a0-1423d69a797e"
      },
      "execution_count": 19,
      "outputs": [
        {
          "output_type": "execute_result",
          "data": {
            "text/plain": [
              "((100, 71, 71, 3), (100,))"
            ]
          },
          "metadata": {},
          "execution_count": 19
        }
      ]
    },
    {
      "cell_type": "code",
      "source": [
        "# Aplicando a função para criar os datasets de teste\n",
        "x_test_pairs, y_test_pairs = make_paired_dataset(x_test_sample, y_test_sample)\n",
        "x_test_pairs.shape, y_test_pairs.shape\n"
      ],
      "metadata": {
        "colab": {
          "base_uri": "https://localhost:8080/",
          "height": 0
        },
        "id": "r5CfyUN-rxJT",
        "outputId": "ff0079ed-5415-43e9-8bc8-15f3b508b9a7"
      },
      "execution_count": 20,
      "outputs": [
        {
          "output_type": "execute_result",
          "data": {
            "text/plain": [
              "((10000, 2, 71, 71, 3), (10000,))"
            ]
          },
          "metadata": {},
          "execution_count": 20
        }
      ]
    },
    {
      "cell_type": "code",
      "source": [
        "# Aplicando a função para criar os datasets de treino\n",
        "x_train_pairs, y_train_pairs = make_paired_dataset(x_train_sample, y_train_sample)\n",
        "x_train_pairs.shape, y_train_pairs.shape\n"
      ],
      "metadata": {
        "colab": {
          "base_uri": "https://localhost:8080/",
          "height": 0
        },
        "id": "t4hCySE7tXSi",
        "outputId": "5f3addd6-bfac-476d-97eb-780473361e26"
      },
      "execution_count": 21,
      "outputs": [
        {
          "output_type": "execute_result",
          "data": {
            "text/plain": [
              "((22500, 2, 71, 71, 3), (22500,))"
            ]
          },
          "metadata": {},
          "execution_count": 21
        }
      ]
    },
    {
      "cell_type": "code",
      "source": [
        "# Aplicando a função para criar os datasets de treino\n",
        "x_test_pairs, y_test_pairs = make_paired_dataset(x_test_sample, y_test_sample)\n",
        "x_test_pairs.shape, y_test_pairs.shape\n"
      ],
      "metadata": {
        "colab": {
          "base_uri": "https://localhost:8080/",
          "height": 0
        },
        "id": "b5xF-YzuteVP",
        "outputId": "a13a3188-a756-4918-f044-0908ba4ef54c"
      },
      "execution_count": 22,
      "outputs": [
        {
          "output_type": "execute_result",
          "data": {
            "text/plain": [
              "((10000, 2, 71, 71, 3), (10000,))"
            ]
          },
          "metadata": {},
          "execution_count": 22
        }
      ]
    },
    {
      "cell_type": "code",
      "source": [
        "# Compilando o modelo\n",
        "siamese_network.compile(optimizer=Adam(learning_rate=0.001), loss=binary_crossentropy, metrics=['accuracy'])\n"
      ],
      "metadata": {
        "id": "QLZSlqjU2Nqw"
      },
      "execution_count": 23,
      "outputs": []
    },
    {
      "cell_type": "code",
      "source": [
        "from tensorflow.keras.utils import plot_model\n",
        "\n",
        "siamese_network.summary()\n",
        "plot_model(siamese_network, show_shapes=True, show_layer_names=True)"
      ],
      "metadata": {
        "colab": {
          "base_uri": "https://localhost:8080/",
          "height": 786
        },
        "id": "TyGEVQpeQbOG",
        "outputId": "7f7b7812-9502-4245-ba0c-66de22ee6cb2"
      },
      "execution_count": 24,
      "outputs": [
        {
          "output_type": "stream",
          "name": "stdout",
          "text": [
            "Model: \"model\"\n",
            "__________________________________________________________________________________________________\n",
            " Layer (type)                Output Shape                 Param #   Connected to                  \n",
            "==================================================================================================\n",
            " input_1 (InputLayer)        [(None, 71, 71, 3)]          0         []                            \n",
            "                                                                                                  \n",
            " input_2 (InputLayer)        [(None, 71, 71, 3)]          0         []                            \n",
            "                                                                                                  \n",
            " xception (Functional)       (None, 2048)                 2086148   ['input_1[0][0]',             \n",
            "                                                          0          'input_2[0][0]']             \n",
            "                                                                                                  \n",
            " lambda (Lambda)             (None, 2048)                 0         ['xception[0][0]',            \n",
            "                                                                     'xception[1][0]']            \n",
            "                                                                                                  \n",
            " dense (Dense)               (None, 1)                    2049      ['lambda[0][0]']              \n",
            "                                                                                                  \n",
            "==================================================================================================\n",
            "Total params: 20863529 (79.59 MB)\n",
            "Trainable params: 2049 (8.00 KB)\n",
            "Non-trainable params: 20861480 (79.58 MB)\n",
            "__________________________________________________________________________________________________\n"
          ]
        },
        {
          "output_type": "execute_result",
          "data": {
            "image/png": "[encoded data removed]",
            "text/plain": [
              "<IPython.core.display.Image object>"
            ]
          },
          "metadata": {},
          "execution_count": 24
        }
      ]
    },
    {
      "cell_type": "code",
      "source": [
        "!pip install visualkeras"
      ],
      "metadata": {
        "id": "zv6jbzL3StAs",
        "outputId": "7de15f7e-ede4-4bd3-ef13-2df3abd03afc",
        "colab": {
          "base_uri": "https://localhost:8080/",
          "height": 0
        }
      },
      "execution_count": 25,
      "outputs": [
        {
          "output_type": "stream",
          "name": "stdout",
          "text": [
            "Collecting visualkeras\n",
            "  Downloading visualkeras-0.0.2-py3-none-any.whl (12 kB)\n",
            "Requirement already satisfied: pillow>=6.2.0 in /usr/local/lib/python3.10/dist-packages (from visualkeras) (9.4.0)\n",
            "Requirement already satisfied: numpy>=1.18.1 in /usr/local/lib/python3.10/dist-packages (from visualkeras) (1.25.2)\n",
            "Collecting aggdraw>=1.3.11 (from visualkeras)\n",
            "  Downloading aggdraw-1.3.18.post0-cp310-cp310-manylinux_2_17_x86_64.manylinux2014_x86_64.whl (993 kB)\n",
            "\u001b[2K     \u001b[90m━━━━━━━━━━━━━━━━━━━━━━━━━━━━━━━━━━━━━━━━\u001b[0m \u001b[32m993.8/993.8 kB\u001b[0m \u001b[31m7.2 MB/s\u001b[0m eta \u001b[36m0:00:00\u001b[0m\n",
            "\u001b[?25hInstalling collected packages: aggdraw, visualkeras\n",
            "Successfully installed aggdraw-1.3.18.post0 visualkeras-0.0.2\n"
          ]
        }
      ]
    },
    {
      "cell_type": "code",
      "source": [
        "from tensorflow.keras.utils import plot_model\n",
        "# from keras_visualizer import visualizer\n",
        "import visualkeras"
      ],
      "metadata": {
        "id": "hwbggneXSnR4"
      },
      "execution_count": 26,
      "outputs": []
    },
    {
      "cell_type": "code",
      "source": [
        "\n",
        "visualkeras.layered_view(siamese_network, legend=True)\n"
      ],
      "metadata": {
        "colab": {
          "base_uri": "https://localhost:8080/",
          "height": 432
        },
        "id": "CFQnIn-sSgjt",
        "outputId": "c55899ed-4915-4f70-8949-f41b3b5c027b"
      },
      "execution_count": 27,
      "outputs": [
        {
          "output_type": "execute_result",
          "data": {
            "text/plain": [
              "<PIL.Image.Image image mode=RGBA size=581x415>"
            ],
            "image/png": "[encoded data removed]"
          },
          "metadata": {},
          "execution_count": 27
        }
      ]
    },
    {
      "cell_type": "code",
      "source": [
        "x_train_pairs.shape"
      ],
      "metadata": {
        "colab": {
          "base_uri": "https://localhost:8080/",
          "height": 0
        },
        "id": "0wppjHpfhgX1",
        "outputId": "1345ca33-46e4-40ab-e5a8-dfa84aef19a8"
      },
      "execution_count": 28,
      "outputs": [
        {
          "output_type": "execute_result",
          "data": {
            "text/plain": [
              "(22500, 2, 71, 71, 3)"
            ]
          },
          "metadata": {},
          "execution_count": 28
        }
      ]
    },
    {
      "cell_type": "code",
      "source": [
        "history = siamese_network.fit(x=[ x_train_pairs[:, 0, :, :],\n",
        "                                  x_train_pairs[:, 1, :, :]],\n",
        "                                  y=y_train_pairs,\n",
        "                                  validation_data=([x_test_pairs[:, 0, :, :],\n",
        "                                                    x_test_pairs[:, 1, :, :]],\n",
        "                                                    y_test_pairs),\n",
        "                                  epochs=20,\n",
        "                                  batch_size=32)\n"
      ],
      "metadata": {
        "colab": {
          "base_uri": "https://localhost:8080/",
          "height": 0
        },
        "id": "_zjkhyWwr__Q",
        "outputId": "fca35caf-29fe-49c0-db60-892744652f8a"
      },
      "execution_count": 29,
      "outputs": [
        {
          "output_type": "stream",
          "name": "stdout",
          "text": [
            "Epoch 1/20\n",
            "704/704 [==============================] - 68s 69ms/step - loss: 0.7020 - accuracy: 0.5698 - val_loss: 0.7694 - val_accuracy: 0.5344\n",
            "Epoch 2/20\n",
            "704/704 [==============================] - 52s 74ms/step - loss: 0.6283 - accuracy: 0.6508 - val_loss: 0.7967 - val_accuracy: 0.5366\n",
            "Epoch 3/20\n",
            "704/704 [==============================] - 45s 64ms/step - loss: 0.5905 - accuracy: 0.6874 - val_loss: 0.8218 - val_accuracy: 0.5380\n",
            "Epoch 4/20\n",
            "704/704 [==============================] - 53s 75ms/step - loss: 0.5703 - accuracy: 0.7024 - val_loss: 0.8556 - val_accuracy: 0.5484\n",
            "Epoch 5/20\n",
            "704/704 [==============================] - 53s 75ms/step - loss: 0.5565 - accuracy: 0.7131 - val_loss: 0.8952 - val_accuracy: 0.5454\n",
            "Epoch 6/20\n",
            "704/704 [==============================] - 53s 75ms/step - loss: 0.5455 - accuracy: 0.7228 - val_loss: 0.9538 - val_accuracy: 0.5432\n",
            "Epoch 7/20\n",
            "704/704 [==============================] - 53s 75ms/step - loss: 0.5378 - accuracy: 0.7266 - val_loss: 1.0164 - val_accuracy: 0.5372\n",
            "Epoch 8/20\n",
            "704/704 [==============================] - 53s 75ms/step - loss: 0.5289 - accuracy: 0.7331 - val_loss: 1.0448 - val_accuracy: 0.5418\n",
            "Epoch 9/20\n",
            "704/704 [==============================] - 53s 75ms/step - loss: 0.5292 - accuracy: 0.7320 - val_loss: 0.9933 - val_accuracy: 0.5364\n",
            "Epoch 10/20\n",
            "704/704 [==============================] - 53s 75ms/step - loss: 0.5242 - accuracy: 0.7350 - val_loss: 1.0207 - val_accuracy: 0.5406\n",
            "Epoch 11/20\n",
            "704/704 [==============================] - 46s 65ms/step - loss: 0.5171 - accuracy: 0.7409 - val_loss: 1.0486 - val_accuracy: 0.5418\n",
            "Epoch 12/20\n",
            "704/704 [==============================] - 53s 75ms/step - loss: 0.5152 - accuracy: 0.7413 - val_loss: 1.0568 - val_accuracy: 0.5412\n",
            "Epoch 13/20\n",
            "704/704 [==============================] - 53s 75ms/step - loss: 0.5136 - accuracy: 0.7450 - val_loss: 1.0905 - val_accuracy: 0.5358\n",
            "Epoch 14/20\n",
            "704/704 [==============================] - 53s 75ms/step - loss: 0.5155 - accuracy: 0.7420 - val_loss: 1.1400 - val_accuracy: 0.5388\n",
            "Epoch 15/20\n",
            "704/704 [==============================] - 53s 75ms/step - loss: 0.5058 - accuracy: 0.7475 - val_loss: 1.1537 - val_accuracy: 0.5386\n",
            "Epoch 16/20\n",
            "704/704 [==============================] - 53s 75ms/step - loss: 0.5107 - accuracy: 0.7447 - val_loss: 1.1483 - val_accuracy: 0.5380\n",
            "Epoch 17/20\n",
            "704/704 [==============================] - 53s 75ms/step - loss: 0.5053 - accuracy: 0.7490 - val_loss: 1.1559 - val_accuracy: 0.5324\n",
            "Epoch 18/20\n",
            "704/704 [==============================] - 53s 75ms/step - loss: 0.5026 - accuracy: 0.7502 - val_loss: 1.1718 - val_accuracy: 0.5380\n",
            "Epoch 19/20\n",
            "704/704 [==============================] - 53s 75ms/step - loss: 0.5014 - accuracy: 0.7512 - val_loss: 1.1966 - val_accuracy: 0.5400\n",
            "Epoch 20/20\n",
            "704/704 [==============================] - 53s 75ms/step - loss: 0.5032 - accuracy: 0.7488 - val_loss: 1.1943 - val_accuracy: 0.5382\n"
          ]
        }
      ]
    },
    {
      "cell_type": "code",
      "source": [
        "# Avaliação do modelo nos dados de teste\n",
        "y_pred = siamese_network.predict([x_test_pairs[:, 0], x_test_pairs[:, 1]])\n",
        "y_pred = (y_pred > 0.5).astype(int)"
      ],
      "metadata": {
        "id": "JfnE0xnTx1Qf"
      },
      "execution_count": null,
      "outputs": []
    },
    {
      "cell_type": "code",
      "source": [
        "print(classification_report(y_test_pairs, y_pred, target_names=['Different', 'Same']))\n"
      ],
      "metadata": {
        "id": "9qq9FyubxnJS"
      },
      "execution_count": null,
      "outputs": []
    },
    {
      "cell_type": "code",
      "source": [
        "# Treinando o modelo\n",
        "# siamese_network.fit([x_train, x_train], y_train, epochs=10, batch_size=16, validation_data=([x_test, x_test], y_test))"
      ],
      "metadata": {
        "id": "kqVbecQn2QeU"
      },
      "execution_count": null,
      "outputs": []
    }
  ]
}